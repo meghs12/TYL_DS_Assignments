{
 "cells": [
  {
   "cell_type": "code",
   "execution_count": 98,
   "id": "02b0e171",
   "metadata": {},
   "outputs": [],
   "source": [
    "# Import libraries\n",
    "\n",
    "import pandas as pd\n",
    "import numpy as np\n",
    "from nltk.stem import PorterStemmer\n",
    "from nltk.stem import WordNetLemmatizer\n",
    "from nltk.corpus import stopwords\n",
    "from sklearn.feature_extraction.text import CountVectorizer\n",
    "from sklearn.naive_bayes import MultinomialNB\n",
    "from sklearn.model_selection import train_test_split\n",
    "from sklearn.metrics import accuracy_score, roc_curve, confusion_matrix\n",
    "import matplotlib.pyplot as plt\n",
    "import seaborn as sns\n",
    "from sklearn.svm import SVC"
   ]
  },
  {
   "cell_type": "code",
   "execution_count": 99,
   "id": "69e25d2b",
   "metadata": {},
   "outputs": [
    {
     "name": "stdout",
     "output_type": "stream",
     "text": [
      "5574\n"
     ]
    }
   ],
   "source": [
    "# Open .txt file\n",
    "\n",
    "fh = open('SMSSpamCollection.txt', 'r')\n",
    "content = fh.readlines()\n",
    "print(len(content))"
   ]
  },
  {
   "cell_type": "code",
   "execution_count": 100,
   "id": "2c56d715",
   "metadata": {},
   "outputs": [
    {
     "name": "stdout",
     "output_type": "stream",
     "text": [
      "ham\tPlease don't text me anymore. I have nothing else to say.\n",
      "\n",
      "please don't text me anymore. i have nothing else to say.\n",
      "\n"
     ]
    }
   ],
   "source": [
    "# Read sample row\n",
    "\n",
    "print(content[100])\n",
    "label, data = content[100].split('\\t')\n",
    "print(data.lower())"
   ]
  },
  {
   "cell_type": "code",
   "execution_count": 101,
   "id": "817803cb",
   "metadata": {},
   "outputs": [
    {
     "name": "stdout",
     "output_type": "stream",
     "text": [
      "4459\n",
      "4459\n",
      "1115\n",
      "1115\n"
     ]
    }
   ],
   "source": [
    "# Obtain train and test data\n",
    "\n",
    "labels_list = []\n",
    "data_list = []\n",
    "for i in range(len(content)):\n",
    "    label, data = content[i].split('\\t')\n",
    "    if label == 'ham':\n",
    "        labels_list.append(0)\n",
    "    else:\n",
    "        labels_list.append(1)\n",
    "    data_list.append(data[:-1].lower())\n",
    "\n",
    "# Split train and test sets\n",
    "X_train, X_test, y_train, y_test = train_test_split(data_list, labels_list, test_size=0.2, random_state=42)\n",
    "\n",
    "print(len(X_train))\n",
    "print(len(y_train))\n",
    "print(len(X_test))\n",
    "print(len(y_test))"
   ]
  },
  {
   "cell_type": "code",
   "execution_count": 102,
   "id": "84e8f35f",
   "metadata": {},
   "outputs": [],
   "source": [
    "# Train count-vectorizer\n",
    "\n",
    "count_vect = CountVectorizer()\n",
    "x_train_counts = count_vect.fit_transform(X_train)"
   ]
  },
  {
   "cell_type": "code",
   "execution_count": 103,
   "id": "daf2b6af",
   "metadata": {},
   "outputs": [
    {
     "name": "stdout",
     "output_type": "stream",
     "text": [
      "3161\n"
     ]
    }
   ],
   "source": [
    "# Sample count\n",
    "\n",
    "print(count_vect.vocabulary_.get('go'))"
   ]
  },
  {
   "cell_type": "code",
   "execution_count": 77,
   "id": "abc8b569",
   "metadata": {},
   "outputs": [
    {
     "data": {
      "text/plain": [
       "MultinomialNB()"
      ]
     },
     "execution_count": 77,
     "metadata": {},
     "output_type": "execute_result"
    }
   ],
   "source": [
    "# Naive Bayes classifier trained\n",
    "\n",
    "nb_classifier = MultinomialNB()\n",
    "nb_classifier.fit(x_train_counts, y_train)"
   ]
  },
  {
   "cell_type": "code",
   "execution_count": 78,
   "id": "1641fa66",
   "metadata": {},
   "outputs": [
    {
     "name": "stdout",
     "output_type": "stream",
     "text": [
      "1\n"
     ]
    }
   ],
   "source": [
    "# Sample prediction\n",
    "\n",
    "print(nb_classifier.predict(count_vect.transform([\"free offer for you\"]))[0])"
   ]
  },
  {
   "cell_type": "code",
   "execution_count": 79,
   "id": "9b2b31f8",
   "metadata": {},
   "outputs": [
    {
     "name": "stdout",
     "output_type": "stream",
     "text": [
      "Accuracy:  0.9865470852017937\n"
     ]
    }
   ],
   "source": [
    "# Obtain test predictions\n",
    "\n",
    "y_pred = []\n",
    "for elem in X_test:\n",
    "    y_pred.append(nb_classifier.predict(count_vect.transform([elem]))[0])\n",
    "acc = accuracy_score(y_pred, y_test)\n",
    "print('Accuracy: ', acc)"
   ]
  },
  {
   "cell_type": "code",
   "execution_count": 76,
   "id": "4e2082f8",
   "metadata": {},
   "outputs": [
    {
     "data": {
      "text/plain": [
       "<AxesSubplot:>"
      ]
     },
     "execution_count": 76,
     "metadata": {},
     "output_type": "execute_result"
    },
    {
     "data": {
      "image/png": "[encoded data removed]",
      "text/plain": [
       "<Figure size 432x288 with 2 Axes>"
      ]
     },
     "metadata": {
      "needs_background": "light"
     },
     "output_type": "display_data"
    }
   ],
   "source": [
    "# Plot confusion matrix \n",
    "\n",
    "cf_matrix = confusion_matrix(y_pred, y_test)\n",
    "sns.heatmap(cf_matrix, annot=True)"
   ]
  },
  {
   "cell_type": "code",
   "execution_count": 80,
   "id": "770bd793",
   "metadata": {},
   "outputs": [
    {
     "data": {
      "image/png": "[encoded data removed]",
      "text/plain": [
       "<Figure size 432x288 with 1 Axes>"
      ]
     },
     "metadata": {
      "needs_background": "light"
     },
     "output_type": "display_data"
    }
   ],
   "source": [
    "# Plot ROC curve\n",
    "\n",
    "fpr, tpr, _ = roc_curve(y_test,  y_pred)\n",
    "plt.plot(fpr,tpr)\n",
    "plt.ylabel('True Positive Rate')\n",
    "plt.xlabel('False Positive Rate')\n",
    "plt.title('ROC for Naive Bayes based classifier')\n",
    "plt.show()"
   ]
  },
  {
   "cell_type": "code",
   "execution_count": 104,
   "id": "0826c32b",
   "metadata": {},
   "outputs": [
    {
     "data": {
      "text/plain": [
       "SVC(gamma='auto', random_state=0)"
      ]
     },
     "execution_count": 104,
     "metadata": {},
     "output_type": "execute_result"
    }
   ],
   "source": [
    "# Train SVM model\n",
    "\n",
    "svm_classifier = SVC(gamma='auto', kernel = 'rbf', random_state = 0)\n",
    "svm_classifier.fit(x_train_counts, y_train)"
   ]
  },
  {
   "cell_type": "code",
   "execution_count": 105,
   "id": "96666af1",
   "metadata": {},
   "outputs": [
    {
     "name": "stdout",
     "output_type": "stream",
     "text": [
      "0\n"
     ]
    }
   ],
   "source": [
    "# Sample prediction\n",
    "\n",
    "print(svm_classifier.predict(count_vect.transform([\"free offer for you\"]))[0])"
   ]
  },
  {
   "cell_type": "code",
   "execution_count": 106,
   "id": "39bcf215",
   "metadata": {},
   "outputs": [
    {
     "name": "stdout",
     "output_type": "stream",
     "text": [
      "Accuracy:  0.8556053811659193\n"
     ]
    }
   ],
   "source": [
    "# Obtain test predictions\n",
    "\n",
    "y_pred = []\n",
    "for elem in X_test:\n",
    "    y_pred.append(svm_classifier.predict(count_vect.transform([elem]))[0])\n",
    "acc = accuracy_score(y_pred, y_test)\n",
    "print('Accuracy: ', acc)"
   ]
  },
  {
   "cell_type": "code",
   "execution_count": 107,
   "id": "5ab3a351",
   "metadata": {},
   "outputs": [
    {
     "data": {
      "text/plain": [
       "<AxesSubplot:>"
      ]
     },
     "execution_count": 107,
     "metadata": {},
     "output_type": "execute_result"
    },
    {
     "data": {
      "image/png": "[encoded data removed]",
      "text/plain": [
       "<Figure size 432x288 with 2 Axes>"
      ]
     },
     "metadata": {
      "needs_background": "light"
     },
     "output_type": "display_data"
    }
   ],
   "source": [
    "# Plot confusion matrix \n",
    "\n",
    "cf_matrix = confusion_matrix(y_pred, y_test)\n",
    "sns.heatmap(cf_matrix, annot=True)"
   ]
  },
  {
   "cell_type": "code",
   "execution_count": 89,
   "id": "a7c581e7",
   "metadata": {},
   "outputs": [
    {
     "data": {
      "image/png": "[encoded data removed]",
      "text/plain": [
       "<Figure size 432x288 with 1 Axes>"
      ]
     },
     "metadata": {
      "needs_background": "light"
     },
     "output_type": "display_data"
    }
   ],
   "source": [
    "# Plot ROC curve\n",
    "\n",
    "fpr, tpr, _ = roc_curve(y_test,  y_pred)\n",
    "plt.plot(fpr,tpr)\n",
    "plt.ylabel('True Positive Rate')\n",
    "plt.xlabel('False Positive Rate')\n",
    "plt.title('ROC for SVM based classifier')\n",
    "plt.show()"
   ]
  }
 ],
 "metadata": {
  "kernelspec": {
   "display_name": "Python 3 (ipykernel)",
   "language": "python",
   "name": "python3"
  },
  "language_info": {
   "codemirror_mode": {
    "name": "ipython",
    "version": 3
   },
   "file_extension": ".py",
   "mimetype": "text/x-python",
   "name": "python",
   "nbconvert_exporter": "python",
   "pygments_lexer": "ipython3",
   "version": "3.9.7"
  }
 },
 "nbformat": 4,
 "nbformat_minor": 5
}
